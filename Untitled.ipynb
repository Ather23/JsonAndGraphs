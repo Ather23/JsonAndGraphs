{
 "cells": [
  {
   "cell_type": "code",
   "execution_count": 37,
   "metadata": {},
   "outputs": [],
   "source": [
    "import json\n",
    "import unittest\n",
    "\n",
    "import networkx as nx\n",
    "import matplotlib.pyplot as plt\n",
    "import json_tree\n",
    "from pyvis.network import Network"
   ]
  },
  {
   "cell_type": "code",
   "execution_count": 47,
   "metadata": {},
   "outputs": [],
   "source": [
    "def _get_data_from_file(file_name):\n",
    "    with open(file_name) as js_reader:\n",
    "        j = js_reader.read()\n",
    "\n",
    "    return json.loads(j)\n",
    "def test_product_data():\n",
    "    jsonl = _get_data_from_file(\"./tests/variant_data.json\")\n",
    "    edges = json_tree.bfs(jsonl, \"variants\")\n",
    "    G = nx.DiGraph()\n",
    "    G.add_edges_from(list(edges))\n",
    "#     print(list(nx.connected_components(G)))\n",
    "    net = Network(notebook=True,height='1000px',width='1000px',directed=True)\n",
    "    net.show_buttons()\n",
    "\n",
    "    net.from_nx(G,)\n",
    "    net.show(\"./variant.html\")\n",
    "#     fig, ax = plt.subplots(figsize=(20,20))\n",
    "#     nx.draw(G, with_labels=True,ax=ax)\n",
    "#     plt.show()"
   ]
  },
  {
   "cell_type": "code",
   "execution_count": 48,
   "metadata": {},
   "outputs": [],
   "source": [
    "test_product_data()"
   ]
  },
  {
   "cell_type": "code",
   "execution_count": null,
   "metadata": {},
   "outputs": [],
   "source": [
    "# (height='500px', width='500px',\n",
    "#  directed=False, notebook=False, bgcolor='#ffffff', font_color=False, layout=None, heading=''"
   ]
  }
 ],
 "metadata": {
  "kernelspec": {
   "display_name": "Python 3",
   "language": "python",
   "name": "python3"
  },
  "language_info": {
   "codemirror_mode": {
    "name": "ipython",
    "version": 3
   },
   "file_extension": ".py",
   "mimetype": "text/x-python",
   "name": "python",
   "nbconvert_exporter": "python",
   "pygments_lexer": "ipython3",
   "version": "3.8.5"
  }
 },
 "nbformat": 4,
 "nbformat_minor": 4
}
